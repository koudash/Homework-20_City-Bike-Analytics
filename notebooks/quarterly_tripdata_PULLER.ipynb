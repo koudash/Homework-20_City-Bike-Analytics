{
 "cells": [
  {
   "cell_type": "code",
   "execution_count": 1,
   "metadata": {},
   "outputs": [],
   "source": [
    "import pandas as pd"
   ]
  },
  {
   "cell_type": "code",
   "execution_count": 2,
   "metadata": {},
   "outputs": [],
   "source": [
    "# Basic path for specific .csv files (quarter data)\n",
    "basic_path = '../data/raw_data/'\n",
    "\n",
    "# List of paths for specific .csv files\n",
    "csv_path_list = [\n",
    "    \"2018Q3-citibike-tripdata-raw.csv\", \"2018Q4-citibike-tripdata-raw.csv\",\n",
    "    \"2019Q1-citibike-tripdata-raw.csv\", \"2019Q2-citibike-tripdata-raw.csv\"\n",
    "]"
   ]
  },
  {
   "cell_type": "code",
   "execution_count": 3,
   "metadata": {},
   "outputs": [],
   "source": [
    "# Loop through \"csv_path_list\"\n",
    "for csv_path in csv_path_list:\n",
    "    \n",
    "    # .......... READ DATA .......... #\n",
    "    # Concatenate \"basic_path\" and \"csv_path\" to make request url\n",
    "    path = basic_path + csv_path\n",
    "\n",
    "    # Read quarterly trip data into Pandas DataFrame\n",
    "    quarterly_trip_df = pd.read_csv(path)        \n",
    "    \n",
    "    # .......... DATA CLEANING .......... # \n",
    "    # 1. Rename column names\n",
    "    quarterly_trip_df = quarterly_trip_df.rename(columns = {\n",
    "        \"Date\": \"date\",\n",
    "        \"Trips over the past 24-hours (midnight to 11:59pm)\": \"daily-trip\",\n",
    "        \"Miles traveled today (midnight to 11:59 pm)\": \"daily-miles\",\n",
    "        \"Total Annual Members (All Time)\": \"annual-member\",\n",
    "        \"24-Hour Passes Purchased (midnight to 11:59 pm)\": \"day-pass\",\n",
    "        \"3-Day Passes Purchased (midnight to 11:59 pm)\": \"3day-pass\"\n",
    "    })\n",
    "    \n",
    "    # 2. Change the data type of columns to save memory usage\n",
    "    quarterly_trip_df[\"daily-trip\"] = quarterly_trip_df[\"daily-trip\"].astype(\"int32\")\n",
    "    quarterly_trip_df[\"daily-miles\"] = quarterly_trip_df[\"daily-miles\"].astype(\"int32\")\n",
    "    quarterly_trip_df[\"annual-member\"] = quarterly_trip_df[\"annual-member\"].astype(\"int32\")\n",
    "    quarterly_trip_df[\"day-pass\"] = quarterly_trip_df[\"day-pass\"].astype(\"int16\")\n",
    "    quarterly_trip_df[\"3day-pass\"] = quarterly_trip_df[\"3day-pass\"].astype(\"int16\")\n",
    "    \n",
    "    # 3. Delete \"Column 1\" column for the second quarter of 2019\n",
    "    if csv_path == \"2019Q2-citibike-tripdata-raw.csv\":\n",
    "        quarterly_trip_df.drop([\"Column 1\"], axis=1, inplace=True)\n",
    "    \n",
    "    # Save \"quarterly_trip_df\" as csv file\n",
    "    quarterly_trip_df.to_csv(f\"../data/cleaned_data/{csv_path[:-8]}.csv\", index=False, header=True)"
   ]
  }
 ],
 "metadata": {
  "kernelspec": {
   "display_name": "Python 3",
   "language": "python",
   "name": "python3"
  },
  "language_info": {
   "codemirror_mode": {
    "name": "ipython",
    "version": 3
   },
   "file_extension": ".py",
   "mimetype": "text/x-python",
   "name": "python",
   "nbconvert_exporter": "python",
   "pygments_lexer": "ipython3",
   "version": "3.7.1"
  }
 },
 "nbformat": 4,
 "nbformat_minor": 2
}
